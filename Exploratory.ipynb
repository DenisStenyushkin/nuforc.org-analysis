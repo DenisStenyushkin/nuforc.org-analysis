{
 "cells": [
  {
   "cell_type": "markdown",
   "metadata": {},
   "source": [
    "This is exploratory analysis to get overall expression about the dataset"
   ]
  },
  {
   "cell_type": "code",
   "execution_count": 1,
   "metadata": {
    "collapsed": true
   },
   "outputs": [],
   "source": [
    "import pandas as pd\n",
    "import matplotlib.pyplot as plt\n",
    "\n",
    "%matplotlib inline"
   ]
  },
  {
   "cell_type": "code",
   "execution_count": 2,
   "metadata": {
    "collapsed": true
   },
   "outputs": [],
   "source": [
    "df = pd.read_json('reports.json')"
   ]
  },
  {
   "cell_type": "markdown",
   "metadata": {},
   "source": [
    "We take only rows that:\n",
    "1. Have all fields filled\n",
    "2. Have full date and time specified"
   ]
  },
  {
   "cell_type": "code",
   "execution_count": 3,
   "metadata": {
    "collapsed": true
   },
   "outputs": [],
   "source": [
    "df = df.dropna(axis=0, how='any')\n",
    "df = df[df['date_time'].str.contains('\\d{1,2}\\/\\d{1,2}\\/\\d{2} \\d{2}:\\d{2}')]"
   ]
  },
  {
   "cell_type": "code",
   "execution_count": 4,
   "metadata": {},
   "outputs": [
    {
     "name": "stdout",
     "output_type": "stream",
     "text": [
      "Number of rows: 97370\n"
     ]
    }
   ],
   "source": [
    "print(\"Number of rows: {}\".format(len(df)))"
   ]
  },
  {
   "cell_type": "code",
   "execution_count": 5,
   "metadata": {},
   "outputs": [
    {
     "data": {
      "text/html": [
       "<div>\n",
       "<table border=\"1\" class=\"dataframe\">\n",
       "  <thead>\n",
       "    <tr style=\"text-align: right;\">\n",
       "      <th></th>\n",
       "      <th>city</th>\n",
       "      <th>date_time</th>\n",
       "      <th>duration</th>\n",
       "      <th>posted</th>\n",
       "      <th>shape</th>\n",
       "      <th>state</th>\n",
       "      <th>summary</th>\n",
       "    </tr>\n",
       "  </thead>\n",
       "  <tbody>\n",
       "    <tr>\n",
       "      <th>0</th>\n",
       "      <td>Louisville</td>\n",
       "      <td>9/28/17 00:00</td>\n",
       "      <td>5 minutes</td>\n",
       "      <td>9/28/17</td>\n",
       "      <td>Light</td>\n",
       "      <td>KY</td>\n",
       "      <td>1 light became 2 lights that surrounded a bigg...</td>\n",
       "    </tr>\n",
       "    <tr>\n",
       "      <th>1</th>\n",
       "      <td>Blaine</td>\n",
       "      <td>9/27/17 23:40</td>\n",
       "      <td>1 minute</td>\n",
       "      <td>9/28/17</td>\n",
       "      <td>Flash</td>\n",
       "      <td>MN</td>\n",
       "      <td>Shooting star like object fell towards Earth, ...</td>\n",
       "    </tr>\n",
       "    <tr>\n",
       "      <th>2</th>\n",
       "      <td>Tacoma</td>\n",
       "      <td>9/27/17 21:30</td>\n",
       "      <td>45 minutes</td>\n",
       "      <td>9/28/17</td>\n",
       "      <td>Triangle</td>\n",
       "      <td>WA</td>\n",
       "      <td>Bright illuminating diamond and round shape ob...</td>\n",
       "    </tr>\n",
       "    <tr>\n",
       "      <th>3</th>\n",
       "      <td>Johnston City</td>\n",
       "      <td>9/27/17 21:00</td>\n",
       "      <td>3+ hours</td>\n",
       "      <td>9/28/17</td>\n",
       "      <td>Triangle</td>\n",
       "      <td>IL</td>\n",
       "      <td>Some of the objects appeared to have  pulsatin...</td>\n",
       "    </tr>\n",
       "    <tr>\n",
       "      <th>4</th>\n",
       "      <td>Bridgeport</td>\n",
       "      <td>9/27/17 20:18</td>\n",
       "      <td>1 minute</td>\n",
       "      <td>9/28/17</td>\n",
       "      <td>Light</td>\n",
       "      <td>CT</td>\n",
       "      <td>Red and green flashing, motionless object that...</td>\n",
       "    </tr>\n",
       "    <tr>\n",
       "      <th>5</th>\n",
       "      <td>Conway</td>\n",
       "      <td>9/27/17 19:45</td>\n",
       "      <td>1 minute</td>\n",
       "      <td>9/28/17</td>\n",
       "      <td>Light</td>\n",
       "      <td>AR</td>\n",
       "      <td>3 moving lights.</td>\n",
       "    </tr>\n",
       "    <tr>\n",
       "      <th>6</th>\n",
       "      <td>Puyallup</td>\n",
       "      <td>9/27/17 19:05</td>\n",
       "      <td>1 minute</td>\n",
       "      <td>9/28/17</td>\n",
       "      <td>Circle</td>\n",
       "      <td>WA</td>\n",
       "      <td>Bright circular object in southern sky at dusk...</td>\n",
       "    </tr>\n",
       "    <tr>\n",
       "      <th>7</th>\n",
       "      <td>Banff (Canada)</td>\n",
       "      <td>9/27/17 12:45</td>\n",
       "      <td>1 minute</td>\n",
       "      <td>9/28/17</td>\n",
       "      <td>Light</td>\n",
       "      <td>AB</td>\n",
       "      <td>Light with purplish ring.</td>\n",
       "    </tr>\n",
       "    <tr>\n",
       "      <th>8</th>\n",
       "      <td>Canton</td>\n",
       "      <td>9/27/17 08:52</td>\n",
       "      <td>2 minutes</td>\n",
       "      <td>9/28/17</td>\n",
       "      <td>Rectangle</td>\n",
       "      <td>GA</td>\n",
       "      <td>Two adult males witness two quadrilateral obje...</td>\n",
       "    </tr>\n",
       "    <tr>\n",
       "      <th>9</th>\n",
       "      <td>Raleigh</td>\n",
       "      <td>9/27/17 07:28</td>\n",
       "      <td>10 seconds</td>\n",
       "      <td>9/28/17</td>\n",
       "      <td>Cigar</td>\n",
       "      <td>NC</td>\n",
       "      <td>White cigar shaped UFO flew over small patch o...</td>\n",
       "    </tr>\n",
       "  </tbody>\n",
       "</table>\n",
       "</div>"
      ],
      "text/plain": [
       "             city      date_time    duration   posted      shape state  \\\n",
       "0      Louisville  9/28/17 00:00   5 minutes  9/28/17      Light    KY   \n",
       "1          Blaine  9/27/17 23:40    1 minute  9/28/17      Flash    MN   \n",
       "2          Tacoma  9/27/17 21:30  45 minutes  9/28/17   Triangle    WA   \n",
       "3   Johnston City  9/27/17 21:00    3+ hours  9/28/17   Triangle    IL   \n",
       "4      Bridgeport  9/27/17 20:18    1 minute  9/28/17      Light    CT   \n",
       "5          Conway  9/27/17 19:45    1 minute  9/28/17      Light    AR   \n",
       "6        Puyallup  9/27/17 19:05    1 minute  9/28/17     Circle    WA   \n",
       "7  Banff (Canada)  9/27/17 12:45    1 minute  9/28/17      Light    AB   \n",
       "8          Canton  9/27/17 08:52   2 minutes  9/28/17  Rectangle    GA   \n",
       "9         Raleigh  9/27/17 07:28  10 seconds  9/28/17      Cigar    NC   \n",
       "\n",
       "                                             summary  \n",
       "0  1 light became 2 lights that surrounded a bigg...  \n",
       "1  Shooting star like object fell towards Earth, ...  \n",
       "2  Bright illuminating diamond and round shape ob...  \n",
       "3  Some of the objects appeared to have  pulsatin...  \n",
       "4  Red and green flashing, motionless object that...  \n",
       "5                                   3 moving lights.  \n",
       "6  Bright circular object in southern sky at dusk...  \n",
       "7                          Light with purplish ring.  \n",
       "8  Two adult males witness two quadrilateral obje...  \n",
       "9  White cigar shaped UFO flew over small patch o...  "
      ]
     },
     "execution_count": 5,
     "metadata": {},
     "output_type": "execute_result"
    }
   ],
   "source": [
    "df.head(10)"
   ]
  },
  {
   "cell_type": "code",
   "execution_count": 6,
   "metadata": {
    "scrolled": true
   },
   "outputs": [
    {
     "data": {
      "text/html": [
       "<div>\n",
       "<table border=\"1\" class=\"dataframe\">\n",
       "  <thead>\n",
       "    <tr style=\"text-align: right;\">\n",
       "      <th></th>\n",
       "      <th>city</th>\n",
       "      <th>date_time</th>\n",
       "      <th>duration</th>\n",
       "      <th>posted</th>\n",
       "      <th>shape</th>\n",
       "      <th>state</th>\n",
       "      <th>summary</th>\n",
       "    </tr>\n",
       "  </thead>\n",
       "  <tbody>\n",
       "    <tr>\n",
       "      <th>count</th>\n",
       "      <td>97370</td>\n",
       "      <td>97370</td>\n",
       "      <td>97370</td>\n",
       "      <td>97370</td>\n",
       "      <td>97370</td>\n",
       "      <td>97370</td>\n",
       "      <td>97370</td>\n",
       "    </tr>\n",
       "    <tr>\n",
       "      <th>unique</th>\n",
       "      <td>19384</td>\n",
       "      <td>83151</td>\n",
       "      <td>10656</td>\n",
       "      <td>487</td>\n",
       "      <td>45</td>\n",
       "      <td>69</td>\n",
       "      <td>96881</td>\n",
       "    </tr>\n",
       "    <tr>\n",
       "      <th>top</th>\n",
       "      <td>Phoenix</td>\n",
       "      <td>11/7/15 18:00</td>\n",
       "      <td>5 minutes</td>\n",
       "      <td>12/12/09</td>\n",
       "      <td>Light</td>\n",
       "      <td>CA</td>\n",
       "      <td>((NUFORC Note:  No information provided by wit...</td>\n",
       "    </tr>\n",
       "    <tr>\n",
       "      <th>freq</th>\n",
       "      <td>595</td>\n",
       "      <td>100</td>\n",
       "      <td>6204</td>\n",
       "      <td>1424</td>\n",
       "      <td>20698</td>\n",
       "      <td>12058</td>\n",
       "      <td>21</td>\n",
       "    </tr>\n",
       "  </tbody>\n",
       "</table>\n",
       "</div>"
      ],
      "text/plain": [
       "           city      date_time   duration    posted  shape  state  \\\n",
       "count     97370          97370      97370     97370  97370  97370   \n",
       "unique    19384          83151      10656       487     45     69   \n",
       "top     Phoenix  11/7/15 18:00  5 minutes  12/12/09  Light     CA   \n",
       "freq        595            100       6204      1424  20698  12058   \n",
       "\n",
       "                                                  summary  \n",
       "count                                               97370  \n",
       "unique                                              96881  \n",
       "top     ((NUFORC Note:  No information provided by wit...  \n",
       "freq                                                   21  "
      ]
     },
     "execution_count": 6,
     "metadata": {},
     "output_type": "execute_result"
    }
   ],
   "source": [
    "df.describe()"
   ]
  },
  {
   "cell_type": "code",
   "execution_count": 7,
   "metadata": {
    "collapsed": true
   },
   "outputs": [],
   "source": [
    "df['date_time'] = pd.to_datetime(df['date_time'], infer_datetime_format=True, errors='coerce')"
   ]
  },
  {
   "cell_type": "markdown",
   "metadata": {},
   "source": [
    "Filter out what has been parsed incorrectly"
   ]
  },
  {
   "cell_type": "code",
   "execution_count": null,
   "metadata": {
    "collapsed": true
   },
   "outputs": [],
   "source": [
    "df = df[~df['date_time'].isnull()]"
   ]
  },
  {
   "cell_type": "markdown",
   "metadata": {},
   "source": [
    "Cleanup cities and build distribution"
   ]
  },
  {
   "cell_type": "code",
   "execution_count": null,
   "metadata": {},
   "outputs": [
    {
     "data": {
      "text/plain": [
       "<matplotlib.axes._subplots.AxesSubplot at 0x18f432756a0>"
      ]
     },
     "execution_count": 9,
     "metadata": {},
     "output_type": "execute_result"
    }
   ],
   "source": [
    "df['city'].value_counts().plot(kind='bar')"
   ]
  },
  {
   "cell_type": "code",
   "execution_count": null,
   "metadata": {
    "collapsed": true
   },
   "outputs": [],
   "source": []
  }
 ],
 "metadata": {
  "kernelspec": {
   "display_name": "Python 3",
   "language": "python",
   "name": "python3"
  },
  "language_info": {
   "codemirror_mode": {
    "name": "ipython",
    "version": 3
   },
   "file_extension": ".py",
   "mimetype": "text/x-python",
   "name": "python",
   "nbconvert_exporter": "python",
   "pygments_lexer": "ipython3",
   "version": "3.6.0"
  }
 },
 "nbformat": 4,
 "nbformat_minor": 2
}
